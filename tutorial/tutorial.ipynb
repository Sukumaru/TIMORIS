{
 "cells": [
  {
   "cell_type": "markdown",
   "id": "e6dcae86-07d4-45a2-b36f-c0efbe539b3d",
   "metadata": {},
   "source": [
    "## TIMORIS: Happy Path Tutorial\n",
    "This notebook demonstrates the minimal working pipeline for detecting tubule-like structures in spatial transcriptomics data using the TIMORIS tool."
   ]
  },
  {
   "cell_type": "markdown",
   "id": "c65fe6b9-2a32-4abe-9708-4ce623d56241",
   "metadata": {},
   "source": [
    "## Step 1: Load and Preprocess Data"
   ]
  },
  {
   "cell_type": "code",
   "execution_count": 12,
   "id": "90c9b7a1-8c1c-4486-ab2b-5d6a8d807a5d",
   "metadata": {},
   "outputs": [],
   "source": [
    "import numpy as np\n",
    "import networkx as nx\n",
    "import scanpy as sc\n",
    "import scipy.sparse as sp\n",
    "from scipy.spatial import Delaunay\n",
    "from sklearn.neighbors import kneighbors_graph, radius_neighbors_graph\n",
    "import scipy.sparse as sp\n",
    "from scipy.sparse import csr_matrix\n",
    "import community as community_louvain\n",
    "import igraph as ig\n",
    "import leidenalg\n",
    "from sklearn.cluster import KMeans\n",
    "from scipy.linalg import eigh\n"
   ]
  },
  {
   "cell_type": "code",
   "execution_count": 1,
   "id": "6adeba44-08e7-4327-baa3-5eda8ec40d49",
   "metadata": {},
   "outputs": [
    {
     "name": "stderr",
     "output_type": "stream",
     "text": [
      "/home/shuzh/.local/lib/python3.10/site-packages/anndata/_core/aligned_df.py:68: ImplicitModificationWarning: Transforming to str index.\n",
      "  warnings.warn(\"Transforming to str index.\", ImplicitModificationWarning)\n"
     ]
    },
    {
     "data": {
      "text/plain": [
       "View of AnnData object with n_obs × n_vars = 111029 × 491\n",
       "    obs: 'label', 'vol', 'p0', 'p1', 'z', 'max_corr', 'ncounts', 'gc_12clust', 'tube', 'ang', 'rad', 'dist_to_edge', 'abin_maxcorr', 'abin_maxcorr_no1', 'good_area', 'sert_abin_maxcorr', 'kmeans12', 'n_genes'\n",
       "    var: 'gene_symbols', 'n_cells', 'highly_variable', 'means', 'dispersions', 'dispersions_norm'\n",
       "    uns: 'log1p', 'hvg'"
      ]
     },
     "execution_count": 1,
     "metadata": {},
     "output_type": "execute_result"
    }
   ],
   "source": [
    "from data_preprocessing import preprocess_data\n",
    "\n",
    "# Path to your input file (update as needed)\n",
    "input_path = 'example_data/example_dataset.h5ad'\n",
    "adata = preprocess_data(input_path, file_type='h5ad')\n",
    "adata"
   ]
  },
  {
   "cell_type": "code",
   "execution_count": 2,
   "id": "c42c5f45-506f-4cff-8ef8-7a7363c904ce",
   "metadata": {},
   "outputs": [
    {
     "name": "stderr",
     "output_type": "stream",
     "text": [
      "/tmp/ipykernel_1830215/720783795.py:1: ImplicitModificationWarning: Setting element `.obsm['spatial']` of view, initializing view as actual.\n",
      "  adata.obsm['spatial'] = adata.obs[['p1', 'p0']].to_numpy()\n"
     ]
    }
   ],
   "source": [
    "adata.obsm['spatial'] = adata.obs[['p1', 'p0']].to_numpy()"
   ]
  },
  {
   "cell_type": "markdown",
   "id": "866faea1-7fb3-4827-b7ef-308f2e75dda6",
   "metadata": {},
   "source": [
    "## Step 2: Generate Spatial Graph"
   ]
  },
  {
   "cell_type": "code",
   "execution_count": 3,
   "id": "18cb8d3b-c2eb-4d2d-8d8f-b98a96ff28f9",
   "metadata": {},
   "outputs": [
    {
     "data": {
      "text/plain": [
       "<5x5 sparse matrix of type '<class 'numpy.float64'>'\n",
       "\twith 4 stored elements in Compressed Sparse Row format>"
      ]
     },
     "execution_count": 3,
     "metadata": {},
     "output_type": "execute_result"
    }
   ],
   "source": [
    "from spatial_graph import generate_spatial_graph\n",
    "\n",
    "adata = generate_spatial_graph(adata, method='knn', k=6)\n",
    "adata.obsp['spatial_connectivities'][:5, :5]  # Show part of the adjacency matrix"
   ]
  },
  {
   "cell_type": "code",
   "execution_count": 4,
   "id": "a70b2a1c-fca9-471b-922a-3b426ae5badd",
   "metadata": {},
   "outputs": [
    {
     "data": {
      "text/plain": [
       "AnnData object with n_obs × n_vars = 111029 × 491\n",
       "    obs: 'label', 'vol', 'p0', 'p1', 'z', 'max_corr', 'ncounts', 'gc_12clust', 'tube', 'ang', 'rad', 'dist_to_edge', 'abin_maxcorr', 'abin_maxcorr_no1', 'good_area', 'sert_abin_maxcorr', 'kmeans12', 'n_genes'\n",
       "    var: 'gene_symbols', 'n_cells', 'highly_variable', 'means', 'dispersions', 'dispersions_norm'\n",
       "    uns: 'log1p', 'hvg'\n",
       "    obsm: 'spatial'\n",
       "    obsp: 'spatial_connectivities'"
      ]
     },
     "execution_count": 4,
     "metadata": {},
     "output_type": "execute_result"
    }
   ],
   "source": [
    "adata"
   ]
  },
  {
   "cell_type": "code",
   "execution_count": 5,
   "id": "6927b71e-b6c4-44ec-a4c0-dc05ad2fd71e",
   "metadata": {},
   "outputs": [
    {
     "data": {
      "text/plain": [
       "<111029x111029 sparse matrix of type '<class 'numpy.float64'>'\n",
       "\twith 666174 stored elements in Compressed Sparse Row format>"
      ]
     },
     "execution_count": 5,
     "metadata": {},
     "output_type": "execute_result"
    }
   ],
   "source": [
    "adata.obsp['spatial_connectivities']"
   ]
  },
  {
   "cell_type": "markdown",
   "id": "87feec93-6816-40a5-8347-df927c7a8209",
   "metadata": {},
   "source": [
    "### Step 3: Load Graph and Run Clustering"
   ]
  },
  {
   "cell_type": "code",
   "execution_count": null,
   "id": "b1065020-a310-47f8-b16d-cafe2c91e32d",
   "metadata": {},
   "outputs": [],
   "source": [
    "from spatial_graph import load_spatial_graph, cluster_spatial_graph"
   ]
  },
  {
   "cell_type": "code",
   "execution_count": 22,
   "id": "0e9544d3-8b10-44a3-9f82-04bdb97916b6",
   "metadata": {},
   "outputs": [],
   "source": [
    "def cluster_spatial_graph(graph, method='leiden'):\n",
    "\n",
    "    \"\"\"\n",
    "    Perform graph-based clustering using the specified method.\n",
    "    Supported methods: 'louvain', 'leiden', 'spectral'.\n",
    "    \"\"\"\n",
    "\n",
    "    if method == \"louvain\":\n",
    "        cluster_map = community_louvain.best_partition(graph)\n",
    "    elif method == \"leiden\":\n",
    "        # Convert networkx to igraph\n",
    "        node_list = list(graph.nodes)\n",
    "        node_index = {node: idx for idx, node in enumerate(node_list)}\n",
    "        ig_graph = ig.Graph()\n",
    "        ig_graph.add_vertices(len(node_list))\n",
    "        ig_graph.add_edges([(node_index[u], node_index[v]) for u, v in graph.edges])\n",
    "\n",
    "        # Perform Leiden clustering\n",
    "        partition = leidenalg.find_partition(ig_graph, leidenalg.ModularityVertexPartition)\n",
    "\n",
    "        # Map back cluster assignments\n",
    "        cluster_map = {node_list[i]: cluster_id for i, cluster_id in enumerate(partition)}\n",
    "    elif method == \"spectral\":\n",
    "        # compute Laplacian matrix\n",
    "        A = nx.adjacency_matrix(graph).toarray()\n",
    "        D = np.diag(A.sum(axis=1))\n",
    "        L = D - A\n",
    "        # get eigenvectors\n",
    "        _, eigvecs = eigh(L, subset_by_index=[1, 3]) # filler for now: ask Shu what he would want num_clusters to be\n",
    "        # apply k-means clustering\n",
    "        kmeans = KMeans(n_clusters=3, random_state=42, n_init=10)\n",
    "        labels = kmeans.fit_predict(eigvecs)\n",
    "        cluster_map = {node: labels[i] for i, node in enumerate(graph.nodes())}\n",
    "    else:\n",
    "        raise ValueError(\"Unsupported clustering method\")\n",
    "\n",
    "    # Assign cluster labels to graph nodes\n",
    "    for node, cluster in cluster_map.items():\n",
    "        graph.nodes[node][\"cluster\"] = cluster\n",
    "\n",
    "    return graph"
   ]
  },
  {
   "cell_type": "code",
   "execution_count": 13,
   "id": "3482d48d-d116-43cc-b570-b3e312cfd8e7",
   "metadata": {},
   "outputs": [],
   "source": [
    "# Save to temporary file for graph loading demo (if needed)\n",
    "# adata.write('temp_output.h5ad')\n",
    "graph = load_spatial_graph(adata)"
   ]
  },
  {
   "cell_type": "code",
   "execution_count": 25,
   "id": "bf7d9d8f-30c2-435a-b6a1-2a87d3a8bd38",
   "metadata": {},
   "outputs": [],
   "source": [
    "graph = cluster_spatial_graph(graph, method='leiden')\n"
   ]
  }
 ],
 "metadata": {
  "kernelspec": {
   "display_name": "Python 3 (ipykernel)",
   "language": "python",
   "name": "python3"
  },
  "language_info": {
   "codemirror_mode": {
    "name": "ipython",
    "version": 3
   },
   "file_extension": ".py",
   "mimetype": "text/x-python",
   "name": "python",
   "nbconvert_exporter": "python",
   "pygments_lexer": "ipython3",
   "version": "3.10.9"
  }
 },
 "nbformat": 4,
 "nbformat_minor": 5
}
